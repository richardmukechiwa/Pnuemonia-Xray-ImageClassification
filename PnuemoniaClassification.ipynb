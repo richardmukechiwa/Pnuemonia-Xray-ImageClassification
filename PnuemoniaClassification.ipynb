{
  "nbformat": 4,
  "nbformat_minor": 0,
  "metadata": {
    "colab": {
      "provenance": [],
      "gpuType": "T4",
      "mount_file_id": "https://github.com/richardmukechiwa/Pnuemonia-Xray-ImageClassification/blob/main/PnuemoniaClassification.ipynb",
      "authorship_tag": "ABX9TyMfBaWCO3dL5guXPHdNWo5R",
      "include_colab_link": true
    },
    "kernelspec": {
      "name": "python3",
      "display_name": "Python 3"
    },
    "language_info": {
      "name": "python"
    },
    "accelerator": "GPU",
    "widgets": {
      "application/vnd.jupyter.widget-state+json": {
        "f6464c530e6e42d2b2c2670414e84cee": {
          "model_module": "@jupyter-widgets/controls",
          "model_name": "HBoxModel",
          "model_module_version": "1.5.0",
          "state": {
            "_dom_classes": [],
            "_model_module": "@jupyter-widgets/controls",
            "_model_module_version": "1.5.0",
            "_model_name": "HBoxModel",
            "_view_count": null,
            "_view_module": "@jupyter-widgets/controls",
            "_view_module_version": "1.5.0",
            "_view_name": "HBoxView",
            "box_style": "",
            "children": [
              "IPY_MODEL_56ee3f61158345c79f7825172bb09844",
              "IPY_MODEL_d80b76c5c373459aa94ea177fc037129",
              "IPY_MODEL_498c0c3b25284882b29eeb308c33b23f"
            ],
            "layout": "IPY_MODEL_f40397a2f7f94cd49ae81f32324feebf"
          }
        },
        "56ee3f61158345c79f7825172bb09844": {
          "model_module": "@jupyter-widgets/controls",
          "model_name": "HTMLModel",
          "model_module_version": "1.5.0",
          "state": {
            "_dom_classes": [],
            "_model_module": "@jupyter-widgets/controls",
            "_model_module_version": "1.5.0",
            "_model_name": "HTMLModel",
            "_view_count": null,
            "_view_module": "@jupyter-widgets/controls",
            "_view_module_version": "1.5.0",
            "_view_name": "HTMLView",
            "description": "",
            "description_tooltip": null,
            "layout": "IPY_MODEL_96e99180ee30426d814e3a38b6bfec37",
            "placeholder": "​",
            "style": "IPY_MODEL_60524c9dc5f54f9c960d9a0b3dc37c9b",
            "value": "100%"
          }
        },
        "d80b76c5c373459aa94ea177fc037129": {
          "model_module": "@jupyter-widgets/controls",
          "model_name": "FloatProgressModel",
          "model_module_version": "1.5.0",
          "state": {
            "_dom_classes": [],
            "_model_module": "@jupyter-widgets/controls",
            "_model_module_version": "1.5.0",
            "_model_name": "FloatProgressModel",
            "_view_count": null,
            "_view_module": "@jupyter-widgets/controls",
            "_view_module_version": "1.5.0",
            "_view_name": "ProgressView",
            "bar_style": "success",
            "description": "",
            "description_tooltip": null,
            "layout": "IPY_MODEL_227e86a76cfb420ba07e8ffb7c80ac66",
            "max": 3329,
            "min": 0,
            "orientation": "horizontal",
            "style": "IPY_MODEL_539570a5a7104d22baa20567b167db48",
            "value": 3329
          }
        },
        "498c0c3b25284882b29eeb308c33b23f": {
          "model_module": "@jupyter-widgets/controls",
          "model_name": "HTMLModel",
          "model_module_version": "1.5.0",
          "state": {
            "_dom_classes": [],
            "_model_module": "@jupyter-widgets/controls",
            "_model_module_version": "1.5.0",
            "_model_name": "HTMLModel",
            "_view_count": null,
            "_view_module": "@jupyter-widgets/controls",
            "_view_module_version": "1.5.0",
            "_view_name": "HTMLView",
            "description": "",
            "description_tooltip": null,
            "layout": "IPY_MODEL_e2a1dc9a7eb94fd094a12636c7422417",
            "placeholder": "​",
            "style": "IPY_MODEL_17cb52aff9ae41719271a9605cec97aa",
            "value": " 3329/3329 [01:17&lt;00:00, 78.47it/s]"
          }
        },
        "f40397a2f7f94cd49ae81f32324feebf": {
          "model_module": "@jupyter-widgets/base",
          "model_name": "LayoutModel",
          "model_module_version": "1.2.0",
          "state": {
            "_model_module": "@jupyter-widgets/base",
            "_model_module_version": "1.2.0",
            "_model_name": "LayoutModel",
            "_view_count": null,
            "_view_module": "@jupyter-widgets/base",
            "_view_module_version": "1.2.0",
            "_view_name": "LayoutView",
            "align_content": null,
            "align_items": null,
            "align_self": null,
            "border": null,
            "bottom": null,
            "display": null,
            "flex": null,
            "flex_flow": null,
            "grid_area": null,
            "grid_auto_columns": null,
            "grid_auto_flow": null,
            "grid_auto_rows": null,
            "grid_column": null,
            "grid_gap": null,
            "grid_row": null,
            "grid_template_areas": null,
            "grid_template_columns": null,
            "grid_template_rows": null,
            "height": null,
            "justify_content": null,
            "justify_items": null,
            "left": null,
            "margin": null,
            "max_height": null,
            "max_width": null,
            "min_height": null,
            "min_width": null,
            "object_fit": null,
            "object_position": null,
            "order": null,
            "overflow": null,
            "overflow_x": null,
            "overflow_y": null,
            "padding": null,
            "right": null,
            "top": null,
            "visibility": null,
            "width": null
          }
        },
        "96e99180ee30426d814e3a38b6bfec37": {
          "model_module": "@jupyter-widgets/base",
          "model_name": "LayoutModel",
          "model_module_version": "1.2.0",
          "state": {
            "_model_module": "@jupyter-widgets/base",
            "_model_module_version": "1.2.0",
            "_model_name": "LayoutModel",
            "_view_count": null,
            "_view_module": "@jupyter-widgets/base",
            "_view_module_version": "1.2.0",
            "_view_name": "LayoutView",
            "align_content": null,
            "align_items": null,
            "align_self": null,
            "border": null,
            "bottom": null,
            "display": null,
            "flex": null,
            "flex_flow": null,
            "grid_area": null,
            "grid_auto_columns": null,
            "grid_auto_flow": null,
            "grid_auto_rows": null,
            "grid_column": null,
            "grid_gap": null,
            "grid_row": null,
            "grid_template_areas": null,
            "grid_template_columns": null,
            "grid_template_rows": null,
            "height": null,
            "justify_content": null,
            "justify_items": null,
            "left": null,
            "margin": null,
            "max_height": null,
            "max_width": null,
            "min_height": null,
            "min_width": null,
            "object_fit": null,
            "object_position": null,
            "order": null,
            "overflow": null,
            "overflow_x": null,
            "overflow_y": null,
            "padding": null,
            "right": null,
            "top": null,
            "visibility": null,
            "width": null
          }
        },
        "60524c9dc5f54f9c960d9a0b3dc37c9b": {
          "model_module": "@jupyter-widgets/controls",
          "model_name": "DescriptionStyleModel",
          "model_module_version": "1.5.0",
          "state": {
            "_model_module": "@jupyter-widgets/controls",
            "_model_module_version": "1.5.0",
            "_model_name": "DescriptionStyleModel",
            "_view_count": null,
            "_view_module": "@jupyter-widgets/base",
            "_view_module_version": "1.2.0",
            "_view_name": "StyleView",
            "description_width": ""
          }
        },
        "227e86a76cfb420ba07e8ffb7c80ac66": {
          "model_module": "@jupyter-widgets/base",
          "model_name": "LayoutModel",
          "model_module_version": "1.2.0",
          "state": {
            "_model_module": "@jupyter-widgets/base",
            "_model_module_version": "1.2.0",
            "_model_name": "LayoutModel",
            "_view_count": null,
            "_view_module": "@jupyter-widgets/base",
            "_view_module_version": "1.2.0",
            "_view_name": "LayoutView",
            "align_content": null,
            "align_items": null,
            "align_self": null,
            "border": null,
            "bottom": null,
            "display": null,
            "flex": null,
            "flex_flow": null,
            "grid_area": null,
            "grid_auto_columns": null,
            "grid_auto_flow": null,
            "grid_auto_rows": null,
            "grid_column": null,
            "grid_gap": null,
            "grid_row": null,
            "grid_template_areas": null,
            "grid_template_columns": null,
            "grid_template_rows": null,
            "height": null,
            "justify_content": null,
            "justify_items": null,
            "left": null,
            "margin": null,
            "max_height": null,
            "max_width": null,
            "min_height": null,
            "min_width": null,
            "object_fit": null,
            "object_position": null,
            "order": null,
            "overflow": null,
            "overflow_x": null,
            "overflow_y": null,
            "padding": null,
            "right": null,
            "top": null,
            "visibility": null,
            "width": null
          }
        },
        "539570a5a7104d22baa20567b167db48": {
          "model_module": "@jupyter-widgets/controls",
          "model_name": "ProgressStyleModel",
          "model_module_version": "1.5.0",
          "state": {
            "_model_module": "@jupyter-widgets/controls",
            "_model_module_version": "1.5.0",
            "_model_name": "ProgressStyleModel",
            "_view_count": null,
            "_view_module": "@jupyter-widgets/base",
            "_view_module_version": "1.2.0",
            "_view_name": "StyleView",
            "bar_color": null,
            "description_width": ""
          }
        },
        "e2a1dc9a7eb94fd094a12636c7422417": {
          "model_module": "@jupyter-widgets/base",
          "model_name": "LayoutModel",
          "model_module_version": "1.2.0",
          "state": {
            "_model_module": "@jupyter-widgets/base",
            "_model_module_version": "1.2.0",
            "_model_name": "LayoutModel",
            "_view_count": null,
            "_view_module": "@jupyter-widgets/base",
            "_view_module_version": "1.2.0",
            "_view_name": "LayoutView",
            "align_content": null,
            "align_items": null,
            "align_self": null,
            "border": null,
            "bottom": null,
            "display": null,
            "flex": null,
            "flex_flow": null,
            "grid_area": null,
            "grid_auto_columns": null,
            "grid_auto_flow": null,
            "grid_auto_rows": null,
            "grid_column": null,
            "grid_gap": null,
            "grid_row": null,
            "grid_template_areas": null,
            "grid_template_columns": null,
            "grid_template_rows": null,
            "height": null,
            "justify_content": null,
            "justify_items": null,
            "left": null,
            "margin": null,
            "max_height": null,
            "max_width": null,
            "min_height": null,
            "min_width": null,
            "object_fit": null,
            "object_position": null,
            "order": null,
            "overflow": null,
            "overflow_x": null,
            "overflow_y": null,
            "padding": null,
            "right": null,
            "top": null,
            "visibility": null,
            "width": null
          }
        },
        "17cb52aff9ae41719271a9605cec97aa": {
          "model_module": "@jupyter-widgets/controls",
          "model_name": "DescriptionStyleModel",
          "model_module_version": "1.5.0",
          "state": {
            "_model_module": "@jupyter-widgets/controls",
            "_model_module_version": "1.5.0",
            "_model_name": "DescriptionStyleModel",
            "_view_count": null,
            "_view_module": "@jupyter-widgets/base",
            "_view_module_version": "1.2.0",
            "_view_name": "StyleView",
            "description_width": ""
          }
        }
      }
    }
  },
  "cells": [
    {
      "cell_type": "markdown",
      "metadata": {
        "id": "view-in-github",
        "colab_type": "text"
      },
      "source": [
        "<a href=\"https://colab.research.google.com/github/richardmukechiwa/Pnuemonia-Xray-ImageClassification/blob/main/PnuemoniaClassification.ipynb\" target=\"_parent\"><img src=\"https://colab.research.google.com/assets/colab-badge.svg\" alt=\"Open In Colab\"/></a>"
      ]
    },
    {
      "cell_type": "code",
      "execution_count": 4,
      "metadata": {
        "id": "6hNJKQ83DDN5",
        "collapsed": true
      },
      "outputs": [],
      "source": [
        "# checking libraries\n",
        "#!pip list"
      ]
    },
    {
      "cell_type": "markdown",
      "source": [
        "# **Import Libraries**"
      ],
      "metadata": {
        "id": "auS9z2P7TtYh"
      }
    },
    {
      "cell_type": "code",
      "source": [
        "import os\n",
        "import time\n",
        "import copy\n",
        "import glob\n",
        "import random\n",
        "\n",
        "import numpy as np\n",
        "import pandas as pd\n",
        "from PIL import Image\n",
        "\n",
        "from tqdm.auto import tqdm\n",
        "from matplotlib import pyplot as plt\n",
        "from sklearn.model_selection import train_test_split\n",
        "from sklearn.metrics import ConfusionMatrixDisplay, confusion_matrix\n",
        "\n",
        "\n",
        "import torch\n",
        "import torch.nn.functional as F\n",
        "import torch.nn as nn\n",
        "from torch.optim import Adam\n",
        "from torch.utils.data import Dataset, DataLoader, random_split\n",
        "from torchvision import transforms, datasets\n",
        "from torchvision import models\n",
        "from torchvision.models import resnet18, resnet34"
      ],
      "metadata": {
        "id": "-o_5SRIpYPFi"
      },
      "execution_count": 5,
      "outputs": []
    },
    {
      "cell_type": "markdown",
      "source": [
        "# **Load Data**"
      ],
      "metadata": {
        "id": "jxRJNjXjoOIp"
      }
    },
    {
      "cell_type": "code",
      "source": [
        "# Check if GPU is available\n",
        "print(\"Is GPU available:\", torch.cuda.is_available())\n",
        "\n",
        "# Get GPU name\n",
        "if torch.cuda.is_available():\n",
        "    print(\"GPU Name:\", torch.cuda.get_device_name(0))\n",
        "\n"
      ],
      "metadata": {
        "id": "F3J1_i4boTpQ",
        "outputId": "f430bef3-3572-44c9-9e25-f1cf8b458ea8",
        "colab": {
          "base_uri": "https://localhost:8080/"
        }
      },
      "execution_count": 6,
      "outputs": [
        {
          "output_type": "stream",
          "name": "stdout",
          "text": [
            "Is GPU available: False\n"
          ]
        }
      ]
    },
    {
      "cell_type": "code",
      "source": [
        "# define data directories\n",
        "train_path = (\"/content/drive/MyDrive/chest_xray/train\")\n",
        "test_path = (\"/content/drive/MyDrive/chest_xray/test\")\n",
        "val_path = (\"/content/drive/MyDrive/chest_xray/val\")\n"
      ],
      "metadata": {
        "id": "rZhFMAoNpHtf"
      },
      "execution_count": 7,
      "outputs": []
    },
    {
      "cell_type": "markdown",
      "source": [
        "# **Data Exploration**"
      ],
      "metadata": {
        "id": "q5sQ3Qjsmi17"
      }
    },
    {
      "cell_type": "code",
      "source": [
        "# converting images to RGB\n",
        "class ConvertToRGB():\n",
        "  def __call__(self, img):\n",
        "    if img.mode != 'RGB':\n",
        "      img = img.convert(\"RGB\")\n",
        "    return img\n",
        "\n",
        "# defining transforms\n",
        "\n",
        "transform = transforms.Compose(\n",
        "    [\n",
        "        ConvertToRGB(),\n",
        "        transforms.Resize((224, 224)),\n",
        "        transforms.ToTensor(),\n",
        "\n",
        "\n",
        "    ]\n",
        ")\n"
      ],
      "metadata": {
        "id": "c1ifo9tnVAbC"
      },
      "execution_count": 8,
      "outputs": []
    },
    {
      "cell_type": "code",
      "source": [
        "# creating  data sets using ImageFolder\n",
        "train_dataset = datasets.ImageFolder(root = train_path, transform = transform)\n",
        "val_dataset = datasets.ImageFolder(root = val_path, transform = transform)\n",
        "test_dataset = datasets.ImageFolder(root = test_path, transform = transform)\n",
        "\n"
      ],
      "metadata": {
        "id": "gPmLmHilZTrm"
      },
      "execution_count": 9,
      "outputs": []
    },
    {
      "cell_type": "code",
      "source": [
        "\n",
        "#Total number datapoints in each dataset\n",
        "print(\"Total train images\", len(train_dataset))\n",
        "print(\"Total val images\", len(val_dataset))\n",
        "print(\"Total test images\", len(test_dataset))\n"
      ],
      "metadata": {
        "colab": {
          "base_uri": "https://localhost:8080/"
        },
        "id": "3fNwpsLAYVb_",
        "outputId": "c763c814-90c9-4d28-c704-a1aec90d7a53"
      },
      "execution_count": 10,
      "outputs": [
        {
          "output_type": "stream",
          "name": "stdout",
          "text": [
            "Total train images 3329\n",
            "Total val images 20\n",
            "Total test images 171\n"
          ]
        }
      ]
    },
    {
      "cell_type": "code",
      "source": [
        "# Visualize a sample image\n",
        "def image_label(i):\n",
        "  image, label = train_dataset[i]\n",
        "  0 <= i <= len(train_dataset)\n",
        "  plt.imshow(image.permute(1, 2, 0))\n",
        "  plt.title(f\"Label: {label}\")\n",
        "  plt.show()\n",
        ""
      ],
      "metadata": {
        "id": "J0Wqntw1T3Ta"
      },
      "execution_count": 11,
      "outputs": []
    },
    {
      "cell_type": "code",
      "source": [
        "# using the function to get an image\n",
        "image_label(368)"
      ],
      "metadata": {
        "colab": {
          "base_uri": "https://localhost:8080/",
          "height": 452
        },
        "id": "UBfQB77ZWDyf",
        "outputId": "4283320b-23a7-4040-dc60-a8076ee19b21"
      },
      "execution_count": 12,
      "outputs": [
        {
          "output_type": "display_data",
          "data": {
            "text/plain": [
              "<Figure size 640x480 with 1 Axes>"
            ],
            "image/png": "[encoded data removed]"
          },
          "metadata": {}
        }
      ]
    },
    {
      "cell_type": "code",
      "source": [
        "#checking train dataset classes\n",
        "\n",
        "print(\"  Classes for training dataset\")\n",
        "print(train_dataset.classes)\n",
        "print(f\"That's {len(train_dataset.classes)}, classes\")\n",
        "print()\n",
        "print(\"Tensor shape for one image is\")\n",
        "print(train_dataset[0][0].shape)"
      ],
      "metadata": {
        "id": "cIqEzeY-aoT7",
        "outputId": "5947b32e-ec3e-43e5-8224-91202c4411ae",
        "colab": {
          "base_uri": "https://localhost:8080/"
        }
      },
      "execution_count": 13,
      "outputs": [
        {
          "output_type": "stream",
          "name": "stdout",
          "text": [
            "  Classes for training dataset\n",
            "['normal', 'pneumonia']\n",
            "That's 2, classes\n",
            "\n",
            "Tensor shape for one image is\n",
            "torch.Size([3, 224, 224])\n"
          ]
        }
      ]
    },
    {
      "cell_type": "code",
      "source": [
        "# Classes balance verification\n",
        "\n",
        "im = train_dataset.imgs\n",
        "print(im[0])\n",
        "\n",
        "distinct_classes = {x[1] for x in im}\n",
        "print(distinct_classes)"
      ],
      "metadata": {
        "id": "4rD03ukslNv-",
        "outputId": "6d962f8b-87ad-4c0c-b4a4-a7daba199639",
        "colab": {
          "base_uri": "https://localhost:8080/"
        }
      },
      "execution_count": 14,
      "outputs": [
        {
          "output_type": "stream",
          "name": "stdout",
          "text": [
            "('/content/drive/MyDrive/chest_xray/train/normal/IM-0115-0001 - Copy (2) - Copy - Copy.jpeg', 0)\n",
            "{0, 1}\n"
          ]
        }
      ]
    },
    {
      "cell_type": "code",
      "source": [
        "# class counts\n",
        "from collections import Counter\n",
        "\n",
        "def class_counts(dataset):\n",
        "  c = Counter(x[1] for x in tqdm(dataset))\n",
        "  class_to_index = dataset.class_to_idx\n",
        "  return pd.Series({cat: c[idx]  for cat, idx in class_to_index.items()})\n"
      ],
      "metadata": {
        "id": "7zxCUbQFnz8S"
      },
      "execution_count": 18,
      "outputs": []
    },
    {
      "cell_type": "code",
      "source": [
        "#class counts for train data\n",
        "train_count = class_counts(train_dataset)\n",
        "train_count"
      ],
      "metadata": {
        "id": "Hx_qSBgYpwMB",
        "outputId": "7bbbb97e-d24a-4532-d49e-f76281fa084a",
        "colab": {
          "base_uri": "https://localhost:8080/",
          "height": 179,
          "referenced_widgets": [
            "f6464c530e6e42d2b2c2670414e84cee",
            "56ee3f61158345c79f7825172bb09844",
            "d80b76c5c373459aa94ea177fc037129",
            "498c0c3b25284882b29eeb308c33b23f",
            "f40397a2f7f94cd49ae81f32324feebf",
            "96e99180ee30426d814e3a38b6bfec37",
            "60524c9dc5f54f9c960d9a0b3dc37c9b",
            "227e86a76cfb420ba07e8ffb7c80ac66",
            "539570a5a7104d22baa20567b167db48",
            "e2a1dc9a7eb94fd094a12636c7422417",
            "17cb52aff9ae41719271a9605cec97aa"
          ]
        }
      },
      "execution_count": 19,
      "outputs": [
        {
          "output_type": "display_data",
          "data": {
            "text/plain": [
              "  0%|          | 0/3329 [00:00<?, ?it/s]"
            ],
            "application/vnd.jupyter.widget-view+json": {
              "version_major": 2,
              "version_minor": 0,
              "model_id": "f6464c530e6e42d2b2c2670414e84cee"
            }
          },
          "metadata": {}
        },
        {
          "output_type": "execute_result",
          "data": {
            "text/plain": [
              "normal        352\n",
              "pneumonia    2977\n",
              "dtype: int64"
            ],
            "text/html": [
              "<div>\n",
              "<style scoped>\n",
              "    .dataframe tbody tr th:only-of-type {\n",
              "        vertical-align: middle;\n",
              "    }\n",
              "\n",
              "    .dataframe tbody tr th {\n",
              "        vertical-align: top;\n",
              "    }\n",
              "\n",
              "    .dataframe thead th {\n",
              "        text-align: right;\n",
              "    }\n",
              "</style>\n",
              "<table border=\"1\" class=\"dataframe\">\n",
              "  <thead>\n",
              "    <tr style=\"text-align: right;\">\n",
              "      <th></th>\n",
              "      <th>0</th>\n",
              "    </tr>\n",
              "  </thead>\n",
              "  <tbody>\n",
              "    <tr>\n",
              "      <th>normal</th>\n",
              "      <td>352</td>\n",
              "    </tr>\n",
              "    <tr>\n",
              "      <th>pneumonia</th>\n",
              "      <td>2977</td>\n",
              "    </tr>\n",
              "  </tbody>\n",
              "</table>\n",
              "</div><br><label><b>dtype:</b> int64</label>"
            ]
          },
          "metadata": {},
          "execution_count": 19
        }
      ]
    },
    {
      "cell_type": "code",
      "source": [
        "# plot the class counts\n",
        "train_count.plot(kind = 'bar')\n",
        "plt.title(\"Classes Distribution\");"
      ],
      "metadata": {
        "id": "gOy9ErSh0ygx",
        "outputId": "ae8b453c-5da8-4fd4-fd86-fd6d30e44ff0",
        "colab": {
          "base_uri": "https://localhost:8080/",
          "height": 516
        }
      },
      "execution_count": 22,
      "outputs": [
        {
          "output_type": "display_data",
          "data": {
            "text/plain": [
              "<Figure size 640x480 with 1 Axes>"
            ],
            "image/png": "[encoded data removed]"
          },
          "metadata": {}
        }
      ]
    },
    {
      "cell_type": "markdown",
      "source": [
        "### **There is an imbalance in the train data between the normal and pneumonia class**"
      ],
      "metadata": {
        "id": "9q9KIVjc7752"
      }
    },
    {
      "cell_type": "code",
      "source": [
        "#normalizing the data using transforms\n",
        "\n",
        "transform_norm = transforms.Compose(\n",
        "\n",
        "     [\n",
        "       ConvertToRGB(),\n",
        "       transforms.Resize((224, 224)),\n",
        "       transforms.ToTensor(),\n",
        "       transforms.transforms.Normalize([0.485, 0.456, 0.406], [0.229, 0.224, 0.225])\n",
        "\n",
        "])\n"
      ],
      "metadata": {
        "id": "OXXWsIfzd0UP"
      },
      "execution_count": 23,
      "outputs": []
    },
    {
      "cell_type": "code",
      "source": [
        "train_dataset_norm = datasets.ImageFolder(root = train_path, transform = transform_norm)\n",
        "val_dataset_norm = datasets.ImageFolder(root = val_path, transform = transform_norm)"
      ],
      "metadata": {
        "id": "fyF0JKXH9gqM"
      },
      "execution_count": 24,
      "outputs": []
    },
    {
      "cell_type": "markdown",
      "source": [
        "# **Model Development**"
      ],
      "metadata": {
        "id": "yJEhmBCJKTQw"
      }
    },
    {
      "cell_type": "code",
      "source": [
        "# Use the resnet18 model\n",
        "\n",
        "\n"
      ],
      "metadata": {
        "id": "0A4rKA8hKarO"
      },
      "execution_count": null,
      "outputs": []
    },
    {
      "cell_type": "code",
      "source": [],
      "metadata": {
        "id": "FHAuOuwCjsjE"
      },
      "execution_count": null,
      "outputs": []
    },
    {
      "cell_type": "code",
      "source": [],
      "metadata": {
        "id": "4xs3gVkFirUC"
      },
      "execution_count": null,
      "outputs": []
    },
    {
      "cell_type": "code",
      "source": [
        "# creating a dataloader with \"train_dataset\"\n",
        "batch_size = 32\n",
        "\n",
        "train_data_loader = DataLoader(train_dataset, batch_size = batch_size)\n",
        "\n",
        "batch_shape = next(iter(train_data_loader))[0].shape\n",
        "\n",
        "print('The batch shape is ', batch_shape)"
      ],
      "metadata": {
        "id": "VQy_YtHnkgSl"
      },
      "execution_count": null,
      "outputs": []
    },
    {
      "cell_type": "code",
      "source": [
        "# Initialize variables to accumulate pixel values\n",
        "def get_mean_std(loader)\n",
        "mean = torch.zeros(3)  # Assuming 3 channels (e.g., RGB)\n",
        "std = torch.zeros(3)\n",
        "\n",
        "# Iterate over the dataset to calculate mean and std\n",
        "for images, _ in loader:\n",
        "    # Images shape: [batch_size, channels, height, width]\n",
        "    for i in range(3):  # Iterate over RGB channels\n",
        "        mean[i] += images[:, i, :, :].mean()\n",
        "        std[i] += images[:, i, :, :].std()\n",
        "\n",
        "# Divide by the number of batches to get the average\n",
        "mean /= len(loader)\n",
        "std /= len(loader)\n",
        "\n",
        "print(f\"Mean: {mean}\")\n",
        "print(f\"Std: {std}\")"
      ],
      "metadata": {
        "id": "Eu12CyTCAv47"
      },
      "execution_count": null,
      "outputs": []
    },
    {
      "cell_type": "code",
      "source": [
        "mean, std = get_mean_std(train_data_loader)\n",
        "\n",
        "print(f\"Mean: {mean}\")\n",
        "print(f\"Standard deviation: {std}\")"
      ],
      "metadata": {
        "id": "g5HKlV-N0bft"
      },
      "execution_count": null,
      "outputs": []
    },
    {
      "cell_type": "code",
      "source": [
        "from typing import Counter\n",
        "def class_counts(dataset):\n",
        "  c = Counter(x[1] for x in tqdm(dataset))\n",
        "  class_to_index = dataset.dataset.class_to_idx\n",
        "  return pd.Series({cat: c[idx] for cat, idx in class_to_index.items()})\n"
      ],
      "metadata": {
        "id": "GRVdeYlpsXSF"
      },
      "execution_count": null,
      "outputs": []
    },
    {
      "cell_type": "code",
      "source": [
        "\n",
        "train_counts = class_counts(train_dataset)\n",
        "train_counts.plot(kind = 'bar')"
      ],
      "metadata": {
        "id": "s01ZbwgZu-rx"
      },
      "execution_count": null,
      "outputs": []
    },
    {
      "cell_type": "code",
      "source": [],
      "metadata": {
        "id": "NqKLn-GVvN6d"
      },
      "execution_count": null,
      "outputs": []
    }
  ]
}